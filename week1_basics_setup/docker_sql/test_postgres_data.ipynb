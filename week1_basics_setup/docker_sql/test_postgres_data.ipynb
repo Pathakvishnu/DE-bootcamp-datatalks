{
 "cells": [
  {
   "cell_type": "code",
   "execution_count": 27,
   "id": "0c81bc90",
   "metadata": {},
   "outputs": [],
   "source": [
    "import psycopg2"
   ]
  },
  {
   "cell_type": "code",
   "execution_count": 60,
   "id": "d7b16b70",
   "metadata": {},
   "outputs": [
    {
     "name": "stdout",
     "output_type": "stream",
     "text": [
      "Opened database successfully\n"
     ]
    }
   ],
   "source": [
    "conn = psycopg2.connect(database = \"ny_taxi\", user = \"root\", \n",
    "                        password = \"root\", host = \"127.0.0.1\", port = \"5432\")\n",
    "print(\"Opened database successfully\")\n",
    "\n",
    "cur = conn.cursor()\n"
   ]
  },
  {
   "cell_type": "code",
   "execution_count": 64,
   "id": "67a02878",
   "metadata": {},
   "outputs": [
    {
     "name": "stdout",
     "output_type": "stream",
     "text": [
      "index\n",
      "VendorID\n",
      "tpep_pickup_datetime\n",
      "tpep_dropoff_datetime\n",
      "passenger_count\n",
      "trip_distance\n",
      "RatecodeID\n",
      "store_and_fwd_flag\n",
      "PULocationID\n",
      "DOLocationID\n",
      "payment_type\n",
      "fare_amount\n",
      "extra\n",
      "mta_tax\n",
      "tip_amount\n",
      "tolls_amount\n",
      "improvement_surcharge\n",
      "total_amount\n",
      "congestion_surcharge\n",
      "airport_fee\n"
     ]
    }
   ],
   "source": [
    "## below printed our the column names \n",
    "cur.execute(\"SELECT * FROM yellow_taxi_data_22\")\n",
    "# cur.execute(\"delete from yellow_ta  xi_data_22 where True\") #--> to drop the table data\n",
    "column_names = [desc[0] for desc in cur.description]\n",
    "for i in column_names:\n",
    "    print(i)\n",
    "conn.commit()"
   ]
  },
  {
   "cell_type": "code",
   "execution_count": 65,
   "id": "776c5193",
   "metadata": {},
   "outputs": [
    {
     "name": "stdout",
     "output_type": "stream",
     "text": [
      "(0, 1, datetime.datetime(2022, 11, 1, 0, 51, 22), datetime.datetime(2022, 11, 1, 0, 56, 24), 1.0, 0.6, 1.0, 'N', 151, 151, 2, 4.5, 0.5, 0.5, 0.0, 0.0, 0.3, 5.8, 0.0, 0.0)\n"
     ]
    }
   ],
   "source": [
    "# first row data \n",
    "rows = cur.fetchall()\n",
    "for row in rows:\n",
    "    print(row)\n",
    "    break"
   ]
  },
  {
   "cell_type": "code",
   "execution_count": 67,
   "id": "5577ba6f",
   "metadata": {},
   "outputs": [
    {
     "name": "stdout",
     "output_type": "stream",
     "text": [
      "number of rows in our table is (100000,)\n"
     ]
    }
   ],
   "source": [
    "# number of rows in our table\n",
    "cur.execute(\"SELECT count(1) FROM yellow_taxi_data_22\")\n",
    "rows = cur.fetchall()\n",
    "for row in rows:\n",
    "    print(f\"number of rows in our table is {row}\")"
   ]
  },
  {
   "cell_type": "code",
   "execution_count": null,
   "id": "9e9f8f1f",
   "metadata": {},
   "outputs": [],
   "source": []
  },
  {
   "cell_type": "code",
   "execution_count": null,
   "id": "11c3fad7",
   "metadata": {},
   "outputs": [],
   "source": []
  },
  {
   "cell_type": "code",
   "execution_count": null,
   "id": "1c86fdca",
   "metadata": {},
   "outputs": [],
   "source": []
  },
  {
   "cell_type": "code",
   "execution_count": null,
   "id": "51009a17",
   "metadata": {},
   "outputs": [],
   "source": []
  },
  {
   "cell_type": "code",
   "execution_count": null,
   "id": "677d7f68",
   "metadata": {},
   "outputs": [],
   "source": []
  }
 ],
 "metadata": {
  "kernelspec": {
   "display_name": "Python 3",
   "language": "python",
   "name": "python3"
  },
  "language_info": {
   "codemirror_mode": {
    "name": "ipython",
    "version": 3
   },
   "file_extension": ".py",
   "mimetype": "text/x-python",
   "name": "python",
   "nbconvert_exporter": "python",
   "pygments_lexer": "ipython3",
   "version": "3.6.4"
  }
 },
 "nbformat": 4,
 "nbformat_minor": 5
}
